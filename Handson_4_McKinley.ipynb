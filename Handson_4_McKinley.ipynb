{
 "cells": [
  {
   "cell_type": "markdown",
   "metadata": {},
   "source": [
    "# List and Tuples\n",
    "\n",
    "To submit this assignment in D2l, post the link to your notebook file on your GitHub account."
   ]
  },
  {
   "cell_type": "markdown",
   "metadata": {},
   "source": [
    "## 6.1 Prime Number Checker\n",
    "Create a program that checks whether a number is a prime number and displays its factors if it is not a prime number.\n",
    "\n",
    "### Console:\n",
    "```powershell\n",
    "Prime Number Checker\n",
    "\n",
    "Please enter an integer between 1 and 5000: 5\n",
    "5 is a prime number.\n",
    "\n",
    "Try again? (y/n): y\n",
    "\n",
    "Please enter an integer between 1 and 5000: 6\n",
    "6 is NOT a prime number.\n",
    "It has 4 factors: 1 2 3 6\n",
    "\n",
    "Try again? (y/n): y\n",
    "\n",
    "Please enter an integer between 1 and 5000: 200\n",
    "200 is NOT a prime number.\n",
    "It has 12 factors: 1 2 4 5 8 10 20 25 40 50 100 200\n",
    "\n",
    "Try again? (y/n): n\n",
    "\n",
    "Bye!\n",
    "```\n",
    "\n",
    "### Specifications:\n",
    "- A prime number is divisible by two factors (1 and itself). For example, 7 is a prime number because it is only divisible by 1 and 7.\n",
    "- If the user enters an integer that's not between 1 and 5000, the program should display an error message.\n",
    "- If the number is a prime number, the program should display a message.\n",
    "If the number is not a prime number, the program should display a message. Then, it should display the number of factors for the number and a list of those factors.\n",
    "- Store the factors for each number in a list.\n",
    "- Use functions to organize the code for this program.\n"
   ]
  },
  {
   "cell_type": "code",
   "execution_count": 3,
   "metadata": {},
   "outputs": [
    {
     "name": "stdout",
     "output_type": "stream",
     "text": [
      "Prime Number Checker\n"
     ]
    },
    {
     "name": "stdin",
     "output_type": "stream",
     "text": [
      "\n",
      "Please enter an integer between 1 and 5000: 5\n"
     ]
    },
    {
     "name": "stdout",
     "output_type": "stream",
     "text": [
      "5 is a prime number.\n"
     ]
    },
    {
     "name": "stdin",
     "output_type": "stream",
     "text": [
      "\n",
      "Try again? (y/n) y\n",
      "\n",
      "Please enter an integer between 1 and 5000: 6\n"
     ]
    },
    {
     "name": "stdout",
     "output_type": "stream",
     "text": [
      "6 is NOT a prime number.\n",
      "It has 4 factors: [1, 2, 3, 6]\n"
     ]
    },
    {
     "name": "stdin",
     "output_type": "stream",
     "text": [
      "\n",
      "Try again? (y/n) y\n",
      "\n",
      "Please enter an integer between 1 and 5000: 200\n"
     ]
    },
    {
     "name": "stdout",
     "output_type": "stream",
     "text": [
      "200 is NOT a prime number.\n",
      "It has 12 factors: [1, 2, 4, 5, 8, 10, 20, 25, 40, 50, 100, 200]\n"
     ]
    },
    {
     "name": "stdin",
     "output_type": "stream",
     "text": [
      "\n",
      "Try again? (y/n) n\n"
     ]
    }
   ],
   "source": [
    "def checkPrime(num):\n",
    "    counter = 0\n",
    "    for i in range(1, num + 1):\n",
    "        if(num % i == 0):\n",
    "            counter += 1\n",
    "    if(counter == 2):\n",
    "        return True, counter\n",
    "    else:\n",
    "        return False, counter\n",
    "\n",
    "def getFactors(num):\n",
    "    prime = []\n",
    "    for i in range(1, num + 1):\n",
    "        if(num % i == 0):\n",
    "            prime.append(i)\n",
    "    return prime\n",
    "\n",
    "def main():\n",
    "    loop = \"y\"\n",
    "    print(\"Prime Number Checker\")\n",
    "    while loop == \"y\":\n",
    "        inp = int(input(\"\\nPlease enter an integer between 1 and 5000:\"))\n",
    "        if(inp < 5000 and inp > 1):\n",
    "            isPrime, numFactors = checkPrime(inp)\n",
    "            if(isPrime):\n",
    "                print(str(inp) + \" is a prime number.\")\n",
    "            else:\n",
    "                print(str(inp) + \" is NOT a prime number.\")\n",
    "                factors = getFactors(inp)\n",
    "                print(\"It has \" + str(numFactors) + \" factors: \" + str(factors))\n",
    "            loop = str(input(\"\\nTry again? (y/n)\"))\n",
    "        else:\n",
    "            print(\"Invalid integer. Please try again.\")\n",
    "\n",
    "\n",
    "if __name__ == \"__main__\":\n",
    "    main()\n",
    "        "
   ]
  },
  {
   "cell_type": "markdown",
   "metadata": {},
   "source": [
    "## 6.2 - Contact Manager\n",
    "Create a program that a user can use to manage the primary email address and phone number for a contact.\n",
    "\n",
    "### Console\n",
    "```powershell\n",
    "Contact Manager\n",
    "\n",
    "COMMAND MENU\n",
    "list - Display all contacts\n",
    "view - View a contact\n",
    "add - Add a contact\n",
    "del - Delete a contact\n",
    "exit - Exit program\n",
    "\n",
    "Command: list\n",
    "1. Guido van Rossum\n",
    "2. Eric Idle\n",
    "\n",
    "Command: view\n",
    "Number: 2\n",
    "Name: Eric Idle\n",
    "Email: eric@ericidle.com\n",
    "Phone: +44 20 7946 0958\n",
    "\n",
    "Command: add\n",
    "Name: Mike Murach\n",
    "Email: mike@murach.com\n",
    "Phone: 559-123-4567\n",
    "Mike Murach was added.\n",
    "\n",
    "Command: del\n",
    "Number: 1\n",
    "Guido van Rossum was deleted.\n",
    "\n",
    "Command: list\n",
    "1. Eric Idle\n",
    "2. Mike Murach\n",
    "\n",
    "Command: exit\n",
    "Bye!\n",
    "```\n",
    "\n",
    "### Specifications:\n",
    "- Use a list of lists to store the data for the contacts. Provide starting data for two or more contacts.\n",
    "- For the `view` and `del` commands, display an error message if the user enters and invalid contact number.\n",
    "- When you exit the program, all changes that you made to the contact list are lost.\n",
    "\n",
    "\n"
   ]
  },
  {
   "cell_type": "code",
   "execution_count": 5,
   "metadata": {},
   "outputs": [
    {
     "name": "stdout",
     "output_type": "stream",
     "text": [
      "COMMAND MENU\n",
      "list - Display all contacts\n",
      "view - View a contact\n",
      "add - Add a contact\n",
      "del - Delete a contact\n",
      "exit - Exit program\n",
      "\n"
     ]
    },
    {
     "name": "stdin",
     "output_type": "stream",
     "text": [
      "Command:  list\n"
     ]
    },
    {
     "name": "stdout",
     "output_type": "stream",
     "text": [
      "1. Guido van Rossum\n",
      "1. Eric Idle\n",
      "\n"
     ]
    },
    {
     "name": "stdin",
     "output_type": "stream",
     "text": [
      "Command:  view\n",
      "Number:  2\n"
     ]
    },
    {
     "name": "stdout",
     "output_type": "stream",
     "text": [
      "Name: Eric Idle\n",
      "Email: eric@ericidle.com\n",
      "Phone: +44 20 7946 0958\n",
      "\n"
     ]
    },
    {
     "name": "stdin",
     "output_type": "stream",
     "text": [
      "Command:  add\n",
      "Name:  Mike Murach\n",
      "Email:  mike@murach.com\n",
      "Phone:  559-123-4567\n"
     ]
    },
    {
     "name": "stdout",
     "output_type": "stream",
     "text": [
      "Mike Murach was added.\n",
      "\n"
     ]
    },
    {
     "name": "stdin",
     "output_type": "stream",
     "text": [
      "Command:  del\n",
      "Number:  1\n"
     ]
    },
    {
     "name": "stdout",
     "output_type": "stream",
     "text": [
      "Guido van Rossum was deleted.\n",
      "\n"
     ]
    },
    {
     "name": "stdin",
     "output_type": "stream",
     "text": [
      "Command:  list\n"
     ]
    },
    {
     "name": "stdout",
     "output_type": "stream",
     "text": [
      "1. Eric Idle\n",
      "1. Mike Murach\n",
      "\n"
     ]
    },
    {
     "name": "stdin",
     "output_type": "stream",
     "text": [
      "Command:  exit\n"
     ]
    },
    {
     "name": "stdout",
     "output_type": "stream",
     "text": [
      "Bye!\n"
     ]
    }
   ],
   "source": [
    "def displayMenu():\n",
    "    print(\"COMMAND MENU\")\n",
    "    print(\"list - Display all contacts\")\n",
    "    print(\"view - View a contact\")\n",
    "    print(\"add - Add a contact\")\n",
    "    print(\"del - Delete a contact\")\n",
    "    print(\"exit - Exit program\\n\")\n",
    "\n",
    "def list(contactList):\n",
    "    if len(contactList) == 0:\n",
    "        print(\"There are no movies in the list.\\n\")\n",
    "        return\n",
    "    else:\n",
    "        i = 1\n",
    "        for row in contactList:\n",
    "            print(str(i) + \". \" + row[0])\n",
    "        print()\n",
    "\n",
    "def view(contactList):\n",
    "    num = int(input(\"Number: \"))\n",
    "    if num < 1 or num > len(contactList):\n",
    "        print(\"Invalid contact number.\\n\")\n",
    "    else:\n",
    "        print(\"Name: \" + contactList[num - 1][0])\n",
    "        print(\"Email: \" + contactList[num - 1][1])\n",
    "        print(\"Phone: \" + contactList[num - 1][2] + \"\\n\")\n",
    "\n",
    "def add(contactList):\n",
    "    name = input(\"Name: \")\n",
    "    email = input(\"Email: \")\n",
    "    phone = input(\"Phone: \")\n",
    "    contact = []\n",
    "    contact.append(name)\n",
    "    contact.append(email)\n",
    "    contact.append(phone)\n",
    "    contactList.append(contact)\n",
    "    print(contact[0] + \" was added.\\n\")\n",
    "\n",
    "def delete(contactList):\n",
    "    num = int(input(\"Number: \"))\n",
    "    if num < 1 or num > len(contactList):\n",
    "        print(\"Invalid contact number.\\n\")\n",
    "    else:\n",
    "        contact = contactList.pop(num - 1)\n",
    "        print(contact[0] + \" was deleted.\\n\")\n",
    "\n",
    "\n",
    "\n",
    "\n",
    "def main():\n",
    "    contactList = [[\"Guido van Rossum\", \"guidp@rossum.com\", \"123-456-7890\"],\n",
    "                  [\"Eric Idle\", \"eric@ericidle.com\", \"+44 20 7946 0958\"]]\n",
    "    displayMenu()\n",
    "    while True:\n",
    "        command = input(\"Command: \")\n",
    "        if command == \"list\":\n",
    "            list(contactList)\n",
    "        elif command == \"view\":\n",
    "            view(contactList)\n",
    "        elif command == \"add\":\n",
    "            add(contactList)\n",
    "        elif command == \"del\":\n",
    "            delete(contactList)\n",
    "        elif command == \"exit\":\n",
    "            break\n",
    "        else:\n",
    "            print(\"Not a valid command. Please try again.\\n\")\n",
    "    print(\"Bye!\")\n",
    "\n",
    "\n",
    "if __name__ == \"__main__\":\n",
    "    main()"
   ]
  },
  {
   "cell_type": "code",
   "execution_count": null,
   "metadata": {},
   "outputs": [],
   "source": []
  }
 ],
 "metadata": {
  "kernelspec": {
   "display_name": "Python [conda env:base] *",
   "language": "python",
   "name": "conda-base-py"
  },
  "language_info": {
   "codemirror_mode": {
    "name": "ipython",
    "version": 3
   },
   "file_extension": ".py",
   "mimetype": "text/x-python",
   "name": "python",
   "nbconvert_exporter": "python",
   "pygments_lexer": "ipython3",
   "version": "3.12.7"
  }
 },
 "nbformat": 4,
 "nbformat_minor": 4
}
