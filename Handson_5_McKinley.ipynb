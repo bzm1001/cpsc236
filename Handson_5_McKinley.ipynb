{
 "cells": [
  {
   "cell_type": "markdown",
   "metadata": {},
   "source": [
    "# File Input\n",
    "\n",
    "To submit this assignment in D2l, post the link to your notebook file on your GitHub account."
   ]
  },
  {
   "cell_type": "markdown",
   "metadata": {},
   "source": [
    "## 7.1 Pig Dice Rules\n",
    "Create a program that reads a list of rules from a file and displays them.\n",
    "\n",
    "### Console:\n",
    "```powershell\n",
    "Pig Dice Rules:\n",
    "*\tSee how many turns it takes you to get to 20.\n",
    "*\tTurn ends when player rolls a 1 or chooses to hold.\n",
    "*\tIf you roll a 1, you lose all points earned during the turn.\n",
    "*\tIf you hold, you save all points earned during the turn.\n",
    "```\n",
    "\n",
    "### Specifications:\n",
    "- Use the attached text file named `pig_dice_rules.txt` in the corresponding Directory.\n",
    "- Your program should read the text file and display it on the console.\n"
   ]
  },
  {
   "cell_type": "code",
   "execution_count": 1,
   "metadata": {},
   "outputs": [
    {
     "name": "stdout",
     "output_type": "stream",
     "text": [
      "Pig Dice Rules:\n",
      "* See how many turns it takes you to get to 20.\n",
      "* Turn ends when player rolls a 1 or chooses to hold.\n",
      "* If you roll a 1, you lose all points earned during the turn.\n",
      "* If you hold, you save all points earned during the turn.\n"
     ]
    }
   ],
   "source": [
    "def main():\n",
    "    with open('pig_dice_rules.txt', 'r') as file:\n",
    "        content = file.read()\n",
    "        print(content)\n",
    "\n",
    "if __name__ == \"__main__\":\n",
    "    main()"
   ]
  },
  {
   "cell_type": "markdown",
   "metadata": {},
   "source": [
    "## 7.2 Wizard Inventory\n",
    "Create a program that keeps track of the items that a wizard can carry.\n",
    "\n",
    "### Console:\n",
    "```powershell\n",
    "The Wizard Inventroy Program\n",
    "\n",
    "COMMAND MENU\n",
    "walk - Walk down the path \n",
    "show - Show all items \n",
    "drop - Drop an item\n",
    "exit - Exit program\n",
    "\n",
    "Command: walk\n",
    "While walking down a path, you see a scroll of uncursing. \n",
    "Do you want to grab it? (y/n): y\n",
    "You picked up a scroll of uncursing.\n",
    "\n",
    "Command: walk\n",
    "While walking down a path, you see an unknown potion. \n",
    "Do you want to grab it? (y/n): y\n",
    "You can't carry any more items. Drop something first.\n",
    "\n",
    "Command: show\n",
    "1.\ta wooden staff\n",
    "2.\ta scroll of invisibility\n",
    "3.\ta crossbow\n",
    "4.\ta scroll of uncursing\n",
    "\n",
    "Command: drop Number: 3\n",
    "You dropped a crossbow.\n",
    "\n",
    "Command: exit \n",
    "Bye!\n",
    "```\n",
    "\n",
    "### Specifications:\n",
    "- Use the attached text file named `wizard_all_items.txt` that contains a list of all the items that a wizard can carry. (in the corresponding directory)\n",
    "- When the user selects the walk command, the program should read the items from the file, randomly pick one, and give the user the option to grab it.\n",
    "- Your program should create another file that stores the items that the wizard is carrying (`wizard_inventory.txt`). Make sure to update this file every time the user grabs or drops an item.\n",
    "- The wizard can only carry **four** items at a time.\n",
    "- For the drop command, display an error message if the user enters an invalid number for the item.\n",
    "\n"
   ]
  },
  {
   "cell_type": "code",
   "execution_count": 17,
   "metadata": {},
   "outputs": [
    {
     "name": "stdout",
     "output_type": "stream",
     "text": [
      "The Wizard Inventory Program\n",
      "\n",
      "COMMAND MENU\n",
      "walk - Walk down the path\n",
      "show - Show all items\n",
      "drop - Drop an item\n",
      "exit - Exit the program\n"
     ]
    },
    {
     "name": "stdin",
     "output_type": "stream",
     "text": [
      "\n",
      "Command:  walk\n",
      "While walking down a path, you see a crossbow\n",
      "Do you want to grab it? (y/n):  y\n"
     ]
    },
    {
     "name": "stdout",
     "output_type": "stream",
     "text": [
      "You picked up a crossbow\n",
      "\n"
     ]
    },
    {
     "name": "stdin",
     "output_type": "stream",
     "text": [
      "\n",
      "Command:  walk\n",
      "While walking down a path, you see a wizard hat\n",
      "Do you want to grab it? (y/n):  y\n"
     ]
    },
    {
     "name": "stdout",
     "output_type": "stream",
     "text": [
      "You picked up a wizard hat\n",
      "\n"
     ]
    },
    {
     "name": "stdin",
     "output_type": "stream",
     "text": [
      "\n",
      "Command:  show\n"
     ]
    },
    {
     "name": "stdout",
     "output_type": "stream",
     "text": [
      "Current Inventory:\n",
      "1.      a wooden staff\n",
      "2.      a crossbow\n",
      "\n",
      "3.      a wizard hat\n",
      "\n"
     ]
    },
    {
     "name": "stdin",
     "output_type": "stream",
     "text": [
      "\n",
      "Command:  drop\n",
      "Drop Number:  2\n"
     ]
    },
    {
     "name": "stdout",
     "output_type": "stream",
     "text": [
      "You dropped a crossbow\n",
      "\n"
     ]
    },
    {
     "name": "stdin",
     "output_type": "stream",
     "text": [
      "\n",
      "Command:  walk\n",
      "While walking down a path, you see an unknown potion\n",
      "Do you want to grab it? (y/n):  y\n"
     ]
    },
    {
     "name": "stdout",
     "output_type": "stream",
     "text": [
      "You picked up an unknown potion\n",
      "\n"
     ]
    },
    {
     "name": "stdin",
     "output_type": "stream",
     "text": [
      "\n",
      "Command:  exit\n"
     ]
    },
    {
     "name": "stdout",
     "output_type": "stream",
     "text": [
      "Bye!\n"
     ]
    }
   ],
   "source": [
    "import random\n",
    "\n",
    "MAX_ITEMS = 4\n",
    "ITEMS_FILE = 'wizard_all_items.txt'\n",
    "INVENTORY_FILE = 'wizard_inventory.txt'\n",
    "\n",
    "def load_items():\n",
    "    with open(ITEMS_FILE, 'r') as file:\n",
    "        items = file.readlines()\n",
    "        for item in items:\n",
    "            item.strip()\n",
    "        return items\n",
    "\n",
    "def load_inventory():\n",
    "    with open(INVENTORY_FILE, 'r') as file:\n",
    "        inventory = file.readlines()\n",
    "        for item in inventory:\n",
    "            item.strip()\n",
    "        return inventory\n",
    "\n",
    "def displayMenu():\n",
    "    print(\"The Wizard Inventory Program\\n\")\n",
    "    print(\"COMMAND MENU\")\n",
    "    print(\"walk - Walk down the path\")\n",
    "    print(\"show - Show all items\")\n",
    "    print(\"drop - Drop an item\")\n",
    "    print(\"exit - Exit the program\")\n",
    "\n",
    "def walk(inventory, all_items):\n",
    "    item = random.choice(all_items)\n",
    "    grab = input(\"While walking down a path, you see \" + item + \"Do you want to grab it? (y/n): \")\n",
    "    if grab == \"y\":\n",
    "        if len(inventory) >= MAX_ITEMS:\n",
    "            print(\"You can't carry any more items. Drop something first.\")\n",
    "        else:\n",
    "            inventory.append(item)\n",
    "            print(\"You picked up \" + item)\n",
    "    elif grab == 'n':\n",
    "        print(\"You did not pick it up.\")\n",
    "    else:\n",
    "        print(\"Error. Unrecognized command.\")\n",
    "\n",
    "def show(inventory):\n",
    "    if inventory:\n",
    "        print(\"Current Inventory:\")\n",
    "        for i, item in enumerate(inventory, 1):\n",
    "            print(str(i) + \".      \" + item)\n",
    "    else:\n",
    "        print(\"Your inventory is empty.\")\n",
    "\n",
    "def drop(inventory):\n",
    "    if inventory:\n",
    "        item_num = int(input(\"Drop Number: \"))\n",
    "        if 1 <= item_num and item_num <= len(inventory):\n",
    "            dropped = inventory.pop(item_num - 1)\n",
    "            print(\"You dropped \" + dropped)\n",
    "        else:\n",
    "            print(\"Invalid number.\")\n",
    "    else:\n",
    "        print(\"Your inventory is empty.\")\n",
    "\n",
    "def main():\n",
    "    displayMenu()\n",
    "    all_items = load_items()\n",
    "    inventory = load_inventory()\n",
    "    while True:\n",
    "        inp = input(\"\\nCommand: \")\n",
    "        if inp == \"walk\":\n",
    "            walk(inventory, all_items)\n",
    "        elif inp == \"show\":\n",
    "            show(inventory)\n",
    "        elif inp == \"drop\":\n",
    "            drop(inventory)\n",
    "        elif inp == \"exit\":\n",
    "            print(\"Bye!\")\n",
    "            break\n",
    "        else:\n",
    "            print(\"Error. Invalid Command.\")\n",
    "\n",
    "if __name__ == \"__main__\":\n",
    "    main()\n"
   ]
  },
  {
   "cell_type": "markdown",
   "metadata": {},
   "source": [
    "## 7.3 Monthly Sales\n",
    "Create a program that reads the sales for 12 months from a file and calculates the total yearly sales as well as the average monthly sales. In addition, this program should let the user edit the sales for any month.\n",
    "\n",
    "### Console:\n",
    "```powershell\n",
    "Monthly Sales program\n",
    "\n",
    "COMMAND MENU\n",
    "monthly - View monthly sales \n",
    "yearly\t- View yearly sumary \n",
    "edit\t- Edit sales for a month \n",
    "exit\t- Exit program\n",
    "\n",
    "Command: monthly \n",
    "Jan - 14317\n",
    "Feb - 3903\n",
    "Mar - 1073\n",
    "Apr - 3463\n",
    "May - 2429\n",
    "Jun - 4324\n",
    "Jul - 9762\n",
    "Aug - 15578\n",
    "Sep - 2437\n",
    "Oct - 6735\n",
    "Nov - 88\n",
    "Dec - 2497\n",
    "\n",
    "Command: yearly\n",
    "Yearly total:\t66606\n",
    "Monthly average:\t5550.5\n",
    "\n",
    "Command: edit\n",
    "Three-letter Month: Nov Sales Amount: 8854\n",
    "Sales amount for Nov was modified.\n",
    "\n",
    "Command: exit Bye!\n",
    "```\n",
    "\n",
    "### Specifications:\n",
    "- Use the attached text file named CSV file named `monthly_sales.csv` that contains the month and sales data shown above.\n",
    "- For the edit command, display an error message if the user doesn’t enter a valid three-letter abbreviation for the month.\n",
    "- When the user edits the sales amount for a month, the data should be saved to the CSV file immediately. That way, no data is lost, even if the program crashes later.\n",
    "- Round the results of the monthly average to a maximum of 2 decimal digits."
   ]
  },
  {
   "cell_type": "code",
   "execution_count": 51,
   "metadata": {},
   "outputs": [
    {
     "name": "stdout",
     "output_type": "stream",
     "text": [
      "Monthly Sales Program\n",
      "\n",
      "COMMAND MENU\n",
      "monthly - View monthyl sales\n",
      "yearly - View yearly summary\n",
      "edit - Edit sales for a month\n",
      "exit - Exit the program\n"
     ]
    },
    {
     "name": "stdin",
     "output_type": "stream",
     "text": [
      "\n",
      "Command:  monthly\n"
     ]
    },
    {
     "name": "stdout",
     "output_type": "stream",
     "text": [
      "Monthly Sales:\n",
      "Jan - 14317\n",
      "Feb - 3903\n",
      "Mar - 1073\n",
      "Apr - 3463\n",
      "May - 2429\n",
      "Jun - 4324\n",
      "Jul - 9762\n",
      "Aug - 15578\n",
      "Sep - 2437\n",
      "Oct - 6735\n",
      "Nov - 88\n",
      "Dec - 2497\n"
     ]
    },
    {
     "name": "stdin",
     "output_type": "stream",
     "text": [
      "\n",
      "Command:  yearly\n"
     ]
    },
    {
     "name": "stdout",
     "output_type": "stream",
     "text": [
      "Yearly total: 67606\n",
      "Monthly Average: 5200.46\n"
     ]
    },
    {
     "name": "stdin",
     "output_type": "stream",
     "text": [
      "\n",
      "Command:  edit\n",
      "Three-letter Month:  Nov\n",
      "Sales amount:  8854\n"
     ]
    },
    {
     "name": "stdout",
     "output_type": "stream",
     "text": [
      "Sales amount for Nov was modified\n"
     ]
    },
    {
     "name": "stdin",
     "output_type": "stream",
     "text": [
      "\n",
      "Command:  exit\n"
     ]
    },
    {
     "name": "stdout",
     "output_type": "stream",
     "text": [
      "Bye!\n"
     ]
    }
   ],
   "source": [
    "import csv\n",
    "\n",
    "CSV_FILE = 'monthly_sales.csv'\n",
    "MONTHS = [\n",
    "    'Jan', 'Feb', 'Mar', 'Apr', 'May', 'Jun',\n",
    "    'Jul', 'Aug', 'Sep', 'Oct', 'Nov', 'Dec'\n",
    "]\n",
    "\n",
    "def displayMenu():\n",
    "    print(\"Monthly Sales Program\\n\")\n",
    "    print(\"COMMAND MENU\")\n",
    "    print(\"monthly - View monthyl sales\")\n",
    "    print(\"yearly - View yearly summary\")\n",
    "    print(\"edit - Edit sales for a month\")\n",
    "    print(\"exit - Exit the program\")\n",
    "\n",
    "def read_data():\n",
    "    sales_data = {}\n",
    "    with open(CSV_FILE, mode='r') as file:\n",
    "        reader = csv.reader(file)\n",
    "        for row in reader:\n",
    "            if len(row) == 2:\n",
    "                sales_data[row[0]] = int(row[1])\n",
    "    return sales_data\n",
    "\n",
    "def write_data(sales_data):\n",
    "    with open(CSV_FILE, mode='w', newline='') as file:\n",
    "       writer = csv.writer(file)\n",
    "       for month, sales in sales_data.items():\n",
    "            writer.writerow([month, sales])\n",
    "\n",
    "def show_month(sales_data):\n",
    "    print(\"Monthly Sales:\")\n",
    "    for month in MONTHS:\n",
    "        if month in sales_data:\n",
    "            print(month + \" - \" + str(sales_data[month]))\n",
    "\n",
    "def show_year(sales_data):\n",
    "    total = sum(sales_data.values())\n",
    "    average = total / len(sales_data)\n",
    "    print(\"Yearly total: \" + str(total))\n",
    "    print(\"Monthly Average: \" + str(round(average, 2)))\n",
    "\n",
    "def edit(sales_data):\n",
    "    month = input(\"Three-letter Month: \").strip().capitalize()\n",
    "    if month not in MONTHS:\n",
    "        print(\"Error: Invalid month\")\n",
    "        return\n",
    "    new_value = int(input(\"Sales amount: \"))\n",
    "    sales_data[month] = new_value\n",
    "    write_data(sales_data)\n",
    "    print(\"Sales amount for \" + month + \" was modified\")\n",
    "\n",
    "def main():\n",
    "    sales_data = read_data()\n",
    "    displayMenu()\n",
    "    while True:\n",
    "        inp = input(\"\\nCommand: \")\n",
    "        if inp == \"monthly\":\n",
    "            show_month(sales_data)\n",
    "        elif inp == \"yearly\":\n",
    "            show_year(sales_data)\n",
    "        elif inp == \"edit\":\n",
    "            edit(sales_data)\n",
    "        elif inp == \"exit\":\n",
    "            print(\"Bye!\")\n",
    "            break\n",
    "        else:\n",
    "            print(\"Invalid command please try again\")\n",
    "\n",
    "if __name__ == \"__main__\":\n",
    "    main()"
   ]
  },
  {
   "cell_type": "code",
   "execution_count": null,
   "metadata": {},
   "outputs": [],
   "source": []
  }
 ],
 "metadata": {
  "kernelspec": {
   "display_name": "Python [conda env:base] *",
   "language": "python",
   "name": "conda-base-py"
  },
  "language_info": {
   "codemirror_mode": {
    "name": "ipython",
    "version": 3
   },
   "file_extension": ".py",
   "mimetype": "text/x-python",
   "name": "python",
   "nbconvert_exporter": "python",
   "pygments_lexer": "ipython3",
   "version": "3.12.7"
  }
 },
 "nbformat": 4,
 "nbformat_minor": 4
}
