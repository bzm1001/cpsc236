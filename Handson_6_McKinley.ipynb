{
 "cells": [
  {
   "cell_type": "markdown",
   "metadata": {},
   "source": [
    "# Dictionaries\n",
    "\n",
    "To submit this assignment in D2l, post the link to your notebook file on your GitHub account."
   ]
  },
  {
   "cell_type": "markdown",
   "metadata": {},
   "source": [
    "## 12.1 Champion Counter\n",
    "Create a program that reads a text file that contains a list of FIFA World Cup champions and determines the country that has won the most championships.\n",
    "\n",
    "### Console:\n",
    "```powershell\n",
    "Country\t        Wins\tYears\t\n",
    "=======\t        ====\t=====\t\n",
    "Argentina       2       1978, 1986\n",
    "Brazil\t        5       1958, 1962, 1970, 1994, 2002\n",
    "England\t        1       1966\t\t\n",
    "France\t        1       1998\t\t\n",
    "Germany\t        4       1954, 1974, 1990, 2014\n",
    "Italy\t        4       1934, 1938, 1982, 2006\n",
    "Spain\t        1       2010\n",
    "Uruguay\t        2       1930, 1950\n",
    "```\n",
    "\n",
    "### Specifications:\n",
    "- Use the attached text file named `world_cup_champions.txt` that contains data like this: \n",
    "```powershell\n",
    "Year,Country,Coach,Captain \n",
    "1930,Uruguay,Alberto Suppici,José Nasazzi \n",
    "1934,Italy,Vittorio Pozzo,Gianpiero Combi \n",
    "1938,Italy,Vittorio Pozzo,Giuseppe Meazza\n",
    "...\n",
    "```\n",
    "- When the program starts, it should read the text file and use a dictionary to store the required data using the name of each country that has won the World Cup as the key.\n",
    "- The program should compile the data shown above and display the countries alphabetically.\n",
    "\n"
   ]
  },
  {
   "cell_type": "code",
   "execution_count": 5,
   "metadata": {},
   "outputs": [
    {
     "name": "stdout",
     "output_type": "stream",
     "text": [
      "Country        Wins    Years\n",
      "=====================================================\n",
      "Argentina      2       1978, 1986\n",
      "Brazil         5       1958, 1962, 1970, 1994, 2002\n",
      "England        1       1966\n",
      "France         1       1998\n",
      "Germany        4       1954, 1974, 1990, 2014\n",
      "Italy          4       1934, 1938, 1982, 2006\n",
      "Spain          1       2010\n",
      "Uruguay        2       1930, 1950\n"
     ]
    }
   ],
   "source": [
    "import csv\n",
    "from collections import defaultdict\n",
    "\n",
    "FILENAME = \"world_cup_champions.txt\"\n",
    "\n",
    "def read_champions_file():\n",
    "    champions = defaultdict(lambda: {\"wins\": 0, \"years\": []})\n",
    "\n",
    "    with open(FILENAME, \"r\", encoding=\"utf-8\") as file:\n",
    "        reader = csv.DictReader(file)\n",
    "        for row in reader:\n",
    "            country = row[\"Country\"]\n",
    "            year = row[\"Year\"]\n",
    "\n",
    "            champions[country][\"wins\"] += 1\n",
    "            champions[country][\"years\"].append(year)\n",
    "\n",
    "    return champions\n",
    "\n",
    "def display_champions(champions):\n",
    "    print(f\"{'Country':<15}{'Wins':<8}{'Years'}\")\n",
    "    print(f\"{'='*15}{'='*8}{'='*30}\")\n",
    "\n",
    "    for country in sorted(champions):\n",
    "        data = champions[country]\n",
    "        years_str = \", \".join(sorted(data[\"years\"], key=int))\n",
    "        print(f\"{country:<15}{data['wins']:<8}{years_str}\")\n",
    "\n",
    "def main():\n",
    "    champions = read_champions_file()\n",
    "    display_champions(champions)\n",
    "\n",
    "if __name__ == \"__main__\":\n",
    "    main()\n"
   ]
  },
  {
   "cell_type": "markdown",
   "metadata": {},
   "source": [
    "## 12.2 Monthly Sales\n",
    "Create a program that allows you to view and edit the sales amounts for each month of the current year.\n",
    "\n",
    "### Console:\n",
    "```powershell\n",
    "Monthly Sales program\n",
    "\n",
    "COMMAND MENU\n",
    "view\t- View sales for specified month \n",
    "edit\t- Edit sales for specified month \n",
    "totals - View sales summary for year \n",
    "exit\t- Exit program\n",
    "\n",
    "Command: view\n",
    "Three-letter Month: jan\n",
    "Sales amount for Jan is 14,317.00.\n",
    "\n",
    "Command: edit\n",
    "Three-letter Month: jan \n",
    "Sales Amount: 15293\n",
    "Sales amount for Jan is 15,293.00.\n",
    "\n",
    "Command: totals\n",
    "Yearly total: 67,855.00\n",
    "Monthly average: 5,654.58\n",
    "\n",
    "Command: view\n",
    "Three-letter Month: july \n",
    "Invalid three-letter month.\n",
    "\n",
    "Command: exit Bye!\n",
    "```\n",
    "\n",
    "### Specifications:\n",
    "- Use the attached text file named `monthly_sales.txt` that consists of rows that contain three-letter abbreviations for the month and the monthly sales.\n",
    "- The program should read the file and store the sales data for each month in a dictionary with the month abbreviation as the key for each item.\n",
    "- Whenever the sales data is edited, the program should write the changed data to the text file.\n",
    "\n",
    "\n"
   ]
  },
  {
   "cell_type": "code",
   "execution_count": 11,
   "metadata": {},
   "outputs": [
    {
     "name": "stdout",
     "output_type": "stream",
     "text": [
      "Monthly Sales program\n",
      "\n",
      "COMMAND MENU\n",
      "view\t- View sales for specified month\n",
      "edit\t- Edit sales for specified month\n",
      "totals\t- View sales summary for year\n",
      "exit\t- Exit program\n"
     ]
    },
    {
     "name": "stdin",
     "output_type": "stream",
     "text": [
      "\n",
      "Command:  view\n",
      "Three-letter Month:  jan\n"
     ]
    },
    {
     "name": "stdout",
     "output_type": "stream",
     "text": [
      "Sales amount for Jan is 14,317.00.\n",
      "\n",
      "COMMAND MENU\n",
      "view\t- View sales for specified month\n",
      "edit\t- Edit sales for specified month\n",
      "totals\t- View sales summary for year\n",
      "exit\t- Exit program\n"
     ]
    },
    {
     "name": "stdin",
     "output_type": "stream",
     "text": [
      "\n",
      "Command:  edit\n",
      "Three-letter Month:  jan\n",
      "Sales Amount:  14293\n"
     ]
    },
    {
     "name": "stdout",
     "output_type": "stream",
     "text": [
      "Sales amount for Jan is 14,293.00.\n",
      "\n",
      "COMMAND MENU\n",
      "view\t- View sales for specified month\n",
      "edit\t- Edit sales for specified month\n",
      "totals\t- View sales summary for year\n",
      "exit\t- Exit program\n"
     ]
    },
    {
     "name": "stdin",
     "output_type": "stream",
     "text": [
      "\n",
      "Command:  totals\n"
     ]
    },
    {
     "name": "stdout",
     "output_type": "stream",
     "text": [
      "Yearly total: 66,855.00\n",
      "Monthly average: 5,571.25\n",
      "\n",
      "COMMAND MENU\n",
      "view\t- View sales for specified month\n",
      "edit\t- Edit sales for specified month\n",
      "totals\t- View sales summary for year\n",
      "exit\t- Exit program\n"
     ]
    },
    {
     "name": "stdin",
     "output_type": "stream",
     "text": [
      "\n",
      "Command:  view\n",
      "Three-letter Month:  july\n"
     ]
    },
    {
     "name": "stdout",
     "output_type": "stream",
     "text": [
      "Invalid three-letter month.\n",
      "\n",
      "COMMAND MENU\n",
      "view\t- View sales for specified month\n",
      "edit\t- Edit sales for specified month\n",
      "totals\t- View sales summary for year\n",
      "exit\t- Exit program\n"
     ]
    },
    {
     "name": "stdin",
     "output_type": "stream",
     "text": [
      "\n",
      "Command:  exit\n"
     ]
    },
    {
     "name": "stdout",
     "output_type": "stream",
     "text": [
      "Bye!\n"
     ]
    }
   ],
   "source": [
    "import os\n",
    "\n",
    "FILENAME = \"monthly_sales.txt\"\n",
    "\n",
    "def load_sales():\n",
    "    sales = {}\n",
    "    if os.path.exists(FILENAME):\n",
    "        with open(FILENAME, \"r\") as file:\n",
    "            for line in file:\n",
    "                parts = line.strip().split('\\t')\n",
    "                if len(parts) == 2:\n",
    "                    month = parts[0].capitalize()\n",
    "                    try:\n",
    "                        amount = float(parts[1])\n",
    "                        sales[month] = amount\n",
    "                    except ValueError:\n",
    "                        pass  # skip bad entries\n",
    "    return sales\n",
    "\n",
    "def save_sales(sales):\n",
    "    with open(FILENAME, \"w\") as file:\n",
    "        for month in sorted(sales):\n",
    "            file.write(f\"{month}\\t{int(sales[month])}\\n\")\n",
    "\n",
    "def view_sales(sales):\n",
    "    month_input = input(\"Three-letter Month: \").capitalize()\n",
    "    if month_input in sales:\n",
    "        print(f\"Sales amount for {month_input} is {sales[month_input]:,.2f}.\")\n",
    "    else:\n",
    "        print(\"Invalid three-letter month.\")\n",
    "\n",
    "def edit_sales(sales):\n",
    "    month_input = input(\"Three-letter Month: \").capitalize()\n",
    "    if month_input in sales:\n",
    "        try:\n",
    "            amount = float(input(\"Sales Amount: \"))\n",
    "            sales[month_input] = amount\n",
    "            save_sales(sales)\n",
    "            print(f\"Sales amount for {month_input} is {amount:,.2f}.\")\n",
    "        except ValueError:\n",
    "            print(\"Invalid sales amount.\")\n",
    "    else:\n",
    "        print(\"Invalid three-letter month.\")\n",
    "\n",
    "def view_totals(sales):\n",
    "    total = sum(sales.values())\n",
    "    average = total / len(sales) if sales else 0\n",
    "    print(f\"Yearly total: {total:,.2f}\")\n",
    "    print(f\"Monthly average: {average:,.2f}\")\n",
    "\n",
    "def main():\n",
    "    print(\"Monthly Sales program\")\n",
    "    sales = load_sales()\n",
    "\n",
    "    while True:\n",
    "        print(\"\\nCOMMAND MENU\")\n",
    "        print(\"view\\t- View sales for specified month\")\n",
    "        print(\"edit\\t- Edit sales for specified month\")\n",
    "        print(\"totals\\t- View sales summary for year\")\n",
    "        print(\"exit\\t- Exit program\")\n",
    "\n",
    "        command = input(\"\\nCommand: \").lower()\n",
    "\n",
    "        if command == \"view\":\n",
    "            view_sales(sales)\n",
    "        elif command == \"edit\":\n",
    "            edit_sales(sales)\n",
    "        elif command == \"totals\":\n",
    "            view_totals(sales)\n",
    "        elif command == \"exit\":\n",
    "            print(\"Bye!\")\n",
    "            break\n",
    "        else:\n",
    "            print(\"Invalid command.\")\n",
    "\n",
    "if __name__ == \"__main__\":\n",
    "    main()\n"
   ]
  },
  {
   "cell_type": "code",
   "execution_count": null,
   "metadata": {},
   "outputs": [],
   "source": []
  }
 ],
 "metadata": {
  "kernelspec": {
   "display_name": "Python [conda env:base] *",
   "language": "python",
   "name": "conda-base-py"
  },
  "language_info": {
   "codemirror_mode": {
    "name": "ipython",
    "version": 3
   },
   "file_extension": ".py",
   "mimetype": "text/x-python",
   "name": "python",
   "nbconvert_exporter": "python",
   "pygments_lexer": "ipython3",
   "version": "3.12.7"
  }
 },
 "nbformat": 4,
 "nbformat_minor": 4
}
