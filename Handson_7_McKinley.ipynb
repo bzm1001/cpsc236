{
 "cells": [
  {
   "cell_type": "markdown",
   "metadata": {},
   "source": [
    "# Exceptions\n",
    "\n",
    "To submit this assignment in D2l, post the link to your notebook file on your GitHub account."
   ]
  },
  {
   "cell_type": "markdown",
   "metadata": {},
   "source": [
    "## 8.1 Tip Calculator\n",
    "Add exception handling to a Tip Calculator program.\n",
    "\n",
    "### Console:\n",
    "```powershell\n",
    "Tip Calculator\n",
    "\n",
    "INPUT\n",
    "Cost of meal: ten\n",
    "Must be valid decimal number. Please try again. \n",
    "Cost of meal: -10\n",
    "Must be greater than 0. Please try again. \n",
    "Cost of meal: 52.31\n",
    "Tip percent:\t17.5\n",
    "Must be valid integer. Please try again. \n",
    "Tip percent:\t20\n",
    "\n",
    "OUTPUT\n",
    "Cost of meal:   52.31 \n",
    "Tip percent:    20%\n",
    "Tip amount:     10.46\n",
    "Total amount:   62.77\n",
    "```\n",
    "\n",
    "### Specifications:\n",
    "- The program should accept **decimal** entries like 52.31 and 15.5 for the cost of the meal.\n",
    "- The program should accept **integer** entries like 15, 20, 25 for the tip percent.\n",
    "- The program should validate both user entries. That way, the user can’t crash the program by entering invalid data.\n",
    "- The program should only accept numbers that are **greater than 0**.\n",
    "- The program should round results to a maximum of two decimal places.\n"
   ]
  },
  {
   "cell_type": "code",
   "execution_count": 7,
   "metadata": {},
   "outputs": [
    {
     "name": "stdout",
     "output_type": "stream",
     "text": [
      "Tip Calculator\n",
      "\n",
      "INPUT\n"
     ]
    },
    {
     "name": "stdin",
     "output_type": "stream",
     "text": [
      "Cost of meal: ten\n"
     ]
    },
    {
     "name": "stdout",
     "output_type": "stream",
     "text": [
      "Invalid decimal number. Please try again.\n"
     ]
    },
    {
     "name": "stdin",
     "output_type": "stream",
     "text": [
      "Cost of meal: -10\n"
     ]
    },
    {
     "name": "stdout",
     "output_type": "stream",
     "text": [
      "Must be greater than 0. Please try again\n"
     ]
    },
    {
     "name": "stdin",
     "output_type": "stream",
     "text": [
      "Cost of meal: 52.31\n",
      "Tip percent: 17.5\n"
     ]
    },
    {
     "name": "stdout",
     "output_type": "stream",
     "text": [
      "Must be a valid integer. Please try again.\n"
     ]
    },
    {
     "name": "stdin",
     "output_type": "stream",
     "text": [
      "Tip percent: 20\n"
     ]
    },
    {
     "name": "stdout",
     "output_type": "stream",
     "text": [
      "\n",
      "OUTPUT\n",
      "Cost of meal:\t52.31\n",
      "Tip percentage:\t20%\n",
      "Tip amount:\t10.46\n",
      "Total amount:\t62.77\n"
     ]
    }
   ],
   "source": [
    "def getPrice():\n",
    "    while True:\n",
    "        try:\n",
    "            cost = float(input(\"Cost of meal:\"))\n",
    "            if cost <= 0:\n",
    "                print(\"Must be greater than 0. Please try again\")\n",
    "                continue\n",
    "            return cost\n",
    "        except ValueError:\n",
    "            print(\"Invalid decimal number. Please try again.\")\n",
    "\n",
    "def getTip():\n",
    "    while True:\n",
    "        try:\n",
    "            cost = int(input(\"Tip percent:\"))\n",
    "            if cost <= 0:\n",
    "                print(\"Must be greater than 0. Please try again\")\n",
    "                continue\n",
    "            return cost\n",
    "        except ValueError:\n",
    "            print(\"Must be a valid integer. Please try again.\")\n",
    "\n",
    "def main():\n",
    "    print(\"Tip Calculator\\n\")\n",
    "    print(\"INPUT\")\n",
    "    cost = getPrice()\n",
    "    tip = getTip()\n",
    "    tipAmount = round((cost * (tip / 100)), 2)\n",
    "    print(\"\\nOUTPUT\")\n",
    "    print(\"Cost of meal:\\t\" + str(cost))\n",
    "    print(\"Tip percentage:\\t\" + str(tip) + \"%\")\n",
    "    print(\"Tip amount:\\t\" + str(tipAmount))\n",
    "    print(\"Total amount:\\t\" + str(cost + tipAmount))\n",
    "    \n",
    "    \n",
    "if __name__ == \"__main__\":\n",
    "    main()"
   ]
  },
  {
   "cell_type": "markdown",
   "metadata": {},
   "source": [
    "## 8.2 Wizard Inventory\n",
    "\n",
    "Add exception handling to a program that keeps track of the inventory of items that a wizard can carry. If you still have Wizard Inventory from Handson_5, you can add the exception handling to that program. Otherwise, you can start this program from scratch.\n",
    "\n",
    "### Console if the program can't find the **inventory** file:\n",
    "```powershell\n",
    "The Wizard Inventory program\n",
    "\n",
    "COMMAND MENU\n",
    "walk - Walk down the path \n",
    "show - Show all items \n",
    "drop - Drop an item\n",
    "exit - Exit program\n",
    "\n",
    "Could not find inventory file!\n",
    "Wizard is starting with no inventory.\n",
    "\n",
    "Command: walk\n",
    "While walking down a path, you see a crossbow.\n",
    "Do you want to grab it? (y/n): y\n",
    "You picked up a crossbow.\n",
    "\n",
    "Command: show\n",
    "1. a crossbow\n",
    "\n",
    "Command: drop Number: x\n",
    "Invalid item number.\n",
    "```\n",
    "\n",
    "### The error message if the program can’t find the **items** file:\n",
    "```powershell\n",
    "Could not find items file.\t\n",
    "Exiting program. Bye!\t\n",
    "```\n",
    "\n",
    "### Specifications:\n",
    "- This program should read the text file named `wizard_all_items.txt` that contains all the items a wizard can carry.\n",
    "- When the user selects the walk command, the program should randomly pick one of the items that were read from the text file and give the user the option to grab it.\n",
    "- The current items that the wizard is carrying should be saved in an inventory file. Make sure to update this file every time the user grabs or drops an item.\n",
    "- The wizard can only carry four items at a time. For the drop command, display an error message if the user enters an invalid integer or an integer that doesn’t correspond with an item.\n",
    "- Handle all exceptions that might occur so that the user can’t cause the program to crash. If the all items file is missing, display an appropriate error message and exit the program.\n",
    "- If the inventory file is missing, display an appropriate error message and continue with an empty inventory for the user. That way, the program will write a new inventory file when the user adds items to the inventory."
   ]
  },
  {
   "cell_type": "code",
   "execution_count": 1,
   "metadata": {},
   "outputs": [
    {
     "name": "stdout",
     "output_type": "stream",
     "text": [
      "The Wizard Inventory Program\n",
      "\n",
      "COMMAND MENU\n",
      "walk - Walk down the path\n",
      "show - Show all items\n",
      "drop - Drop an item\n",
      "exit - Exit the program\n",
      "\n",
      "Could not find inventory file!\n",
      "Wizard is starting with no inventory\n"
     ]
    },
    {
     "name": "stdin",
     "output_type": "stream",
     "text": [
      "\n",
      "Command:  walk\n",
      "While walking down a path, you see a scroll of uncursing\n",
      "Do you want to grab it? (y/n):  y\n"
     ]
    },
    {
     "name": "stdout",
     "output_type": "stream",
     "text": [
      "You picked up a scroll of uncursing\n"
     ]
    },
    {
     "name": "stdin",
     "output_type": "stream",
     "text": [
      "\n",
      "Command:  show\n"
     ]
    },
    {
     "name": "stdout",
     "output_type": "stream",
     "text": [
      "Current Inventory:\n",
      "1.      a scroll of uncursing\n"
     ]
    },
    {
     "name": "stdin",
     "output_type": "stream",
     "text": [
      "\n",
      "Command:  x\n"
     ]
    },
    {
     "name": "stdout",
     "output_type": "stream",
     "text": [
      "Error. Invalid Command.\n"
     ]
    },
    {
     "name": "stdin",
     "output_type": "stream",
     "text": [
      "\n",
      "Command:  exit\n"
     ]
    },
    {
     "name": "stdout",
     "output_type": "stream",
     "text": [
      "Bye!\n"
     ]
    }
   ],
   "source": [
    "import random\n",
    "import sys\n",
    "\n",
    "MAX_ITEMS = 4\n",
    "ITEMS_FILE = \"wizard_all_items.txt\"\n",
    "INVENTORY_FILE = \"inventory.txt\"\n",
    "\n",
    "def load_all_items():\n",
    "    try:\n",
    "        with open(ITEMS_FILE, \"r\") as file:\n",
    "            return [line.strip() for line in file]\n",
    "    except FileNotFoundError:\n",
    "        print(\"\\nCount not find items file.\")\n",
    "        print(\"Exiting progrem. Bye!\")\n",
    "        sys.exit()\n",
    "\n",
    "def load_inventory():\n",
    "    try:\n",
    "        with open(INVENTORY_FILE, \"r\") as file:\n",
    "            return [line.strip() for line in file]\n",
    "    except FileNotFoundError:\n",
    "        print(\"\\nCould not find inventory file!\")\n",
    "        print(\"Wizard is starting with no inventory\")\n",
    "        return []\n",
    "\n",
    "def save_inventory(inventory):\n",
    "    try:\n",
    "        with open(INVENTORY_FILE, \"w\") as file:\n",
    "            for item in inventory:\n",
    "                file.write(item + \"\\n\")\n",
    "    except Exception as e:\n",
    "        print(\"Error saving inventory: \" + e)\n",
    "\n",
    "def displayMenu():\n",
    "    print(\"The Wizard Inventory Program\\n\")\n",
    "    print(\"COMMAND MENU\")\n",
    "    print(\"walk - Walk down the path\")\n",
    "    print(\"show - Show all items\")\n",
    "    print(\"drop - Drop an item\")\n",
    "    print(\"exit - Exit the program\")\n",
    "\n",
    "def walk(inventory, all_items):\n",
    "    item = random.choice(all_items)\n",
    "    grab = input(\"While walking down a path, you see \" + item + \"\\nDo you want to grab it? (y/n): \")\n",
    "    if grab == \"y\":\n",
    "        if len(inventory) >= MAX_ITEMS:\n",
    "            print(\"You can't carry any more items. Drop something first.\")\n",
    "        else:\n",
    "            inventory.append(item)\n",
    "            print(\"You picked up \" + item)\n",
    "    elif grab == 'n':\n",
    "        print(\"You did not pick it up.\")\n",
    "    else:\n",
    "        print(\"Error. Unrecognized command.\")\n",
    "\n",
    "def show(inventory):\n",
    "    if inventory:\n",
    "        print(\"Current Inventory:\")\n",
    "        for i, item in enumerate(inventory, 1):\n",
    "            print(str(i) + \".      \" + item)\n",
    "    else:\n",
    "        print(\"Your inventory is empty.\")\n",
    "\n",
    "def drop(inventory):\n",
    "    if inventory:\n",
    "        item_num = int(input(\"Drop Number: \"))\n",
    "        try:\n",
    "            if 1 <= item_num and item_num <= len(inventory):\n",
    "                dropped = inventory.pop(item_num - 1)\n",
    "                print(\"You dropped \" + dropped)\n",
    "            else:\n",
    "                print(\"Invalid number.\")\n",
    "        except ValueError:\n",
    "            print(\"Invalid input. Please enter a number.\")\n",
    "    else:\n",
    "        print(\"Your inventory is empty.\")\n",
    "\n",
    "def main():\n",
    "    displayMenu()\n",
    "    all_items = load_all_items()\n",
    "    inventory = load_inventory()\n",
    "    while True:\n",
    "        inp = input(\"\\nCommand: \")\n",
    "        if inp == \"walk\":\n",
    "            walk(inventory, all_items)\n",
    "        elif inp == \"show\":\n",
    "            show(inventory)\n",
    "        elif inp == \"drop\":\n",
    "            drop(inventory)\n",
    "        elif inp == \"exit\":\n",
    "            print(\"Bye!\")\n",
    "            break\n",
    "        else:\n",
    "            print(\"Error. Invalid Command.\")\n",
    "\n",
    "if __name__ == \"__main__\":\n",
    "    main()"
   ]
  },
  {
   "cell_type": "code",
   "execution_count": null,
   "metadata": {},
   "outputs": [],
   "source": []
  }
 ],
 "metadata": {
  "kernelspec": {
   "display_name": "Python [conda env:base] *",
   "language": "python",
   "name": "conda-base-py"
  },
  "language_info": {
   "codemirror_mode": {
    "name": "ipython",
    "version": 3
   },
   "file_extension": ".py",
   "mimetype": "text/x-python",
   "name": "python",
   "nbconvert_exporter": "python",
   "pygments_lexer": "ipython3",
   "version": "3.12.7"
  }
 },
 "nbformat": 4,
 "nbformat_minor": 4
}
